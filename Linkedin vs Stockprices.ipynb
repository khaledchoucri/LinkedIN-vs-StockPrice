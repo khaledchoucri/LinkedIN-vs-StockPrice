{
 "cells": [
  {
   "cell_type": "code",
   "execution_count": 1,
   "metadata": {},
   "outputs": [],
   "source": [
    "import pandas as pd\n",
    "from pandas import DataFrame as df\n",
    "import numpy as np\n",
    "import csv\n",
    "import matplotlib.pyplot as plt\n",
    "import datetime\n",
    "import math\n",
    "import sklearn\n",
    "\n",
    "%matplotlib inline"
   ]
  },
  {
   "cell_type": "code",
   "execution_count": 36,
   "metadata": {},
   "outputs": [],
   "source": [
    "data = pd.read_csv('linkedin data.csv', usecols = range(0,8), parse_dates=[1,7])"
   ]
  },
  {
   "cell_type": "code",
   "execution_count": 39,
   "metadata": {},
   "outputs": [],
   "source": [
    "industry_mean = data.groupby('industry').mean()\n",
    "industry_total = data.groupby('industry').sum()"
   ]
  },
  {
   "cell_type": "code",
   "execution_count": 41,
   "metadata": {},
   "outputs": [],
   "source": [
    "top5 = industry_total.sort_values(by='employees_on_platform',ascending=False).head()"
   ]
  },
  {
   "cell_type": "code",
   "execution_count": 42,
   "metadata": {},
   "outputs": [
    {
     "data": {
      "image/png": "[encoded data removed]",
      "text/plain": [
       "<Figure size 432x288 with 1 Axes>"
      ]
     },
     "metadata": {
      "needs_background": "light"
     },
     "output_type": "display_data"
    }
   ],
   "source": [
    "plt.bar(top5.index, top5['employees_on_platform'])\n",
    "plt.xticks(rotation=30,rotation_mode=None)\n",
    "plt.show()"
   ]
  },
  {
   "cell_type": "code",
   "execution_count": 43,
   "metadata": {},
   "outputs": [],
   "source": [
    "data['year'] = [data['as_of_date'][i].year for i in range(0,len(data['as_of_date']))]\n",
    "ts1 = data.groupby(['year']).sum()"
   ]
  },
  {
   "cell_type": "code",
   "execution_count": 44,
   "metadata": {
    "scrolled": true
   },
   "outputs": [
    {
     "data": {
      "application/vnd.jupyter.widget-view+json": {
       "model_id": "59bbedef99624f4190fee1f299742c68",
       "version_major": 2,
       "version_minor": 0
      },
      "text/plain": [
       "interactive(children=(Dropdown(description='x', options=(' Professional Diversity Network', '1-800-FLOWERS.COM…"
      ]
     },
     "metadata": {},
     "output_type": "display_data"
    }
   ],
   "source": [
    "from ipywidgets import widgets\n",
    "from ipywidgets import interact, interactive, fixed, interact_manual\n",
    "\n",
    "companies = sorted(data['company_name'].unique().tolist())\n",
    "\n",
    "selection = widgets.Dropdown(options=companies)\n",
    "\n",
    "@interact\n",
    "def show_scatter(x=selection):\n",
    "    selected_company = data[data['company_name']==x]\n",
    "    plt.plot(selected_company['as_of_date'],selected_company['employees_on_platform'])\n",
    "    plt.show()\n",
    "    print(selected_company['employees_on_platform'].mean())"
   ]
  },
  {
   "cell_type": "code",
   "execution_count": 45,
   "metadata": {},
   "outputs": [
    {
     "data": {
      "application/vnd.jupyter.widget-view+json": {
       "model_id": "20f53260c22d42a78ef844cf9cedc9a4",
       "version_major": 2,
       "version_minor": 0
      },
      "text/plain": [
       "interactive(children=(Dropdown(description='x', options=('Investment Banking', 'Aviation & Aerospace', 'Pharma…"
      ]
     },
     "metadata": {},
     "output_type": "display_data"
    }
   ],
   "source": [
    "from ipywidgets import widgets\n",
    "from ipywidgets import interact, interactive, fixed, interact_manual\n",
    "\n",
    "industries = data['industry'].unique().tolist()\n",
    "\n",
    "selection2 = widgets.Dropdown(options=industries)\n",
    "\n",
    "@interact\n",
    "def show_scatter2(x=selection2):\n",
    "    selected_industry = data[data['industry']==x]\n",
    "    color_dict = dict(zip(sorted(selected_industry['company_name'].unique().tolist()),\n",
    "                     range(0,len(sorted(selected_industry['company_name'].unique().tolist())))))\n",
    "    selected_industry['color'] = [color_dict.get(x) for x in selected_industry['company_name']]\n",
    "    filtered_companies = selected_industry['company_name'].unique().tolist()\n",
    "    plt.scatter(selected_industry['as_of_date'], \n",
    "                selected_industry['employees_on_platform'],\n",
    "                c = selected_industry['color'])\n",
    "    plt.show()\n",
    "    print(selected_industry['employees_on_platform'].mean())\n",
    "    print(len(filtered_companies))\n",
    "    print(selected_industry.groupby('company_name').mean()['employees_on_platform'].sort_values(ascending=False))"
   ]
  }
 ],
 "metadata": {
  "kernelspec": {
   "display_name": "Python 3",
   "language": "python",
   "name": "python3"
  },
  "language_info": {
   "codemirror_mode": {
    "name": "ipython",
    "version": 3
   },
   "file_extension": ".py",
   "mimetype": "text/x-python",
   "name": "python",
   "nbconvert_exporter": "python",
   "pygments_lexer": "ipython3",
   "version": "3.7.3"
  }
 },
 "nbformat": 4,
 "nbformat_minor": 2
}
